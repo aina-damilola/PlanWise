{
 "cells": [
  {
   "cell_type": "markdown",
   "id": "1a4a0b8f-62c1-4db7-a2ee-b3d177a1f9fd",
   "metadata": {
    "jp-MarkdownHeadingCollapsed": true
   },
   "source": [
    "# Archived"
   ]
  },
  {
   "cell_type": "code",
   "execution_count": null,
   "id": "a94d8816-45e3-45f4-9288-330a85060969",
   "metadata": {},
   "outputs": [],
   "source": [
    "PROJECT_ID = \"hackathon-454502\"  # @param {type:\"string\"}\n",
    "LOCATION = \"us-central1\"  # @param {type:\"string\"}\n",
    "\n",
    "import vertexai\n",
    "import os\n",
    "vertexai.init(project=PROJECT_ID, location=LOCATION)\n",
    "os.environ[\"GOOGLE_APPLICATION_CREDENTIALS\"] = \"./hackathon-454502-488d2c16e30f.json\""
   ]
  },
  {
   "cell_type": "code",
   "execution_count": null,
   "id": "974f76f0-7396-428f-9fbe-56828587e531",
   "metadata": {},
   "outputs": [],
   "source": [
    "%pip install --upgrade --user google-cloud-aiplatform"
   ]
  },
  {
   "cell_type": "code",
   "execution_count": null,
   "id": "6dcd6f46-6f19-4e8b-95f2-2e679b1ab1e9",
   "metadata": {},
   "outputs": [],
   "source": [
    "from collections.abc import Callable\n",
    "import json\n",
    "import sys\n",
    "import traceback\n",
    "\n",
    "from google.protobuf.json_format import MessageToJson\n",
    "from vertexai import generative_models\n",
    "from vertexai.generative_models import FunctionDeclaration, GenerativeModel, Part, Tool"
   ]
  },
  {
   "cell_type": "code",
   "execution_count": null,
   "id": "c790f914-f742-4fb6-8516-356c21238028",
   "metadata": {},
   "outputs": [],
   "source": [
    "verbose = True"
   ]
  },
  {
   "cell_type": "code",
   "execution_count": null,
   "id": "f162933c-32b6-4b20-a772-e76ef90d3473",
   "metadata": {},
   "outputs": [],
   "source": [
    "# Conveience function to print multiline text indented\n",
    "\n",
    "\n",
    "def indent(text, amount, ch=\" \"):\n",
    "    padding = amount * ch\n",
    "    return \"\".join(padding + line for line in text.splitlines(True))\n",
    "\n",
    "\n",
    "# Convenience function for logging statements\n",
    "def logging(msg):\n",
    "    global verbose\n",
    "    print(msg) if verbose else None\n",
    "\n",
    "\n",
    "# Retrieve the text from a model response\n",
    "def get_text(resp):\n",
    "    return resp.candidates[0].content.parts[0].text\n",
    "\n",
    "\n",
    "# Retrieve the function call information from a model response\n",
    "def get_function_call(resp):\n",
    "    return resp.candidates[0].function_calls[0]\n",
    "\n",
    "\n",
    "def get_action_label(json_payload, log, role=\"MODEL\"):\n",
    "    log(f\"{role}: {json_payload}\")\n",
    "    answer = json.loads(json_payload)\n",
    "    action = answer[\"next_action\"]\n",
    "    return action\n",
    "\n",
    "\n",
    "def get_action_from_function_call(func_payload, log, role=\"MODEL\"):\n",
    "    json_payload = MessageToJson(func_payload._pb)\n",
    "    log(f\"{role}: {json_payload}\")\n",
    "    return func_payload.name"
   ]
  },
  {
   "cell_type": "code",
   "execution_count": null,
   "id": "e6e4acba-9f8e-47a3-8380-30e8544f8316",
   "metadata": {},
   "outputs": [],
   "source": [
    "# Functions for actions (replace these with Gemini function calls)\n",
    "pick_up_clothes_func = FunctionDeclaration(\n",
    "    name=\"pick_up_clothes\",\n",
    "    description=\"The act of picking clothes up from any place\",\n",
    "    parameters={\"type\": \"object\"},\n",
    ")\n",
    "\n",
    "put_clothes_in_hamper_func = FunctionDeclaration(\n",
    "    name=\"put_clothes_in_hamper\",\n",
    "    description=\"Put the clothes being carried into a hamper\",\n",
    "    parameters={\"type\": \"object\"},\n",
    ")\n",
    "\n",
    "pick_up_books_func = FunctionDeclaration(\n",
    "    name=\"pick_up_books\",\n",
    "    description=\"The act of picking books up from any place\",\n",
    "    parameters={\"type\": \"object\"},\n",
    ")\n",
    "\n",
    "place_books_on_shelf_func = FunctionDeclaration(\n",
    "    name=\"place_books_on_shelf\",\n",
    "    description=\"Put the books being carried onto a shelf\",\n",
    "    parameters={\"type\": \"object\"},\n",
    ")\n",
    "\n",
    "empty_wastebin_func = FunctionDeclaration(\n",
    "    name=\"empty_wastebin\",\n",
    "    description=\"Empty out the wastebin\",\n",
    "    parameters={\"type\": \"object\"},\n",
    ")\n",
    "\n",
    "done_func = FunctionDeclaration(\n",
    "    name=\"done\", description=\"The goal has been reached\", parameters={\"type\": \"object\"}\n",
    ")\n",
    "\n",
    "room_tools = Tool(\n",
    "    function_declarations=[\n",
    "        pick_up_clothes_func,\n",
    "        put_clothes_in_hamper_func,\n",
    "        pick_up_books_func,\n",
    "        place_books_on_shelf_func,\n",
    "        empty_wastebin_func,\n",
    "        done_func,\n",
    "    ],\n",
    ")"
   ]
  },
  {
   "cell_type": "code",
   "execution_count": null,
   "id": "fcd0029b-b1b0-4bb8-a97d-83b83f2896d0",
   "metadata": {},
   "outputs": [],
   "source": [
    "def reset_room_state(room_state):\n",
    "    room_state.clear()\n",
    "    room_state[\"clothes\"] = \"floor\"\n",
    "    room_state[\"books\"] = \"scattered\"\n",
    "    room_state[\"wastebin\"] = \"empty\"\n",
    "\n",
    "def is_room_tidy(room_state):\n",
    "    return all(\n",
    "        [\n",
    "            room_state[\"clothes\"] == \"hamper\",\n",
    "            room_state[\"books\"] == \"shelf\",\n",
    "            room_state[\"wastebin\"] == \"empty\",\n",
    "        ]\n",
    "    )"
   ]
  },
  {
   "cell_type": "code",
   "execution_count": null,
   "id": "1e5aefd7-999f-44b7-9ec0-ac544947abcf",
   "metadata": {},
   "outputs": [],
   "source": [
    "model = GenerativeModel(\n",
    "    \"gemini-2.0-flash\",\n",
    "    system_instruction=[\n",
    "       \"You are an assistant that helps me tidy my room.\"\n",
    "       \"Your goal is to make sure all the books are on the shelf, all clothes are in the hamper, and the trash is empty.\",\n",
    "       \"You cannot receive any input from me.\"\n",
    "    ],\n",
    "    tools=[ room_tools ],\n",
    "    generation_config={\"temperature\": 0.0},\n",
    "    safety_settings=[\n",
    "        generative_models.SafetySetting(\n",
    "            category=generative_models.HarmCategory.HARM_CATEGORY_DANGEROUS_CONTENT,\n",
    "            method=generative_models.SafetySetting.HarmBlockMethod.PROBABILITY,\n",
    "            threshold=generative_models.HarmBlockThreshold.BLOCK_ONLY_HIGH,\n",
    "        ),\n",
    "    ],\n",
    ")"
   ]
  },
  {
   "cell_type": "code",
   "execution_count": null,
   "id": "7102cfca-d7ec-424e-8c42-8800b8440c58",
   "metadata": {},
   "outputs": [],
   "source": [
    "# Wrapping the observation and model calling code into a function for better main loop readability.\n",
    "def observe_and_reason(session, state: dict, prev_action: str, log: Callable) -> str:\n",
    "    \"\"\"Uses the language model (Gemini) to select the next action.\"\"\"\n",
    "    try:\n",
    "        msgs = []\n",
    "        if prev_action:\n",
    "            msgs.append(\n",
    "                Part.from_function_response(\n",
    "                    name=\"previous_action\", response={\"content\": prev_action}\n",
    "                )\n",
    "            )\n",
    "\n",
    "        prompt = \"\\n\".join(\n",
    "            [\n",
    "                f\"ENVIRONMENT: The room is currently in this state: {state}.\",\n",
    "                \"Which should be the next action?\",\n",
    "            ]\n",
    "        )\n",
    "        msgs.append(prompt)\n",
    "        log(\n",
    "            \"MESSAGE:\\n{}\".format(\n",
    "                indent(\n",
    "                    \"\\n\".join([prev_action, prompt] if prev_action else [prompt]),\n",
    "                    1,\n",
    "                    \"\\t\",\n",
    "                )\n",
    "            )\n",
    "        )\n",
    "\n",
    "        response = session.send_message(\n",
    "            msgs, tools=[room_tools]\n",
    "        )  # JSON mode unnecessary.\n",
    "        action_label = get_action_from_function_call(get_function_call(response), log)\n",
    "        return action_label\n",
    "\n",
    "    except Exception as e:\n",
    "        log(f\"Error during action selection: {e}\")\n",
    "        traceback.print_exc()\n",
    "        return \"done\"  # Or a suitable default action"
   ]
  },
  {
   "cell_type": "code",
   "execution_count": null,
   "id": "9facca46-e14d-4095-8695-7acdbdaf2f49",
   "metadata": {},
   "outputs": [],
   "source": [
    "# Wrapping the action execution code into a function for better main loop readability.\n",
    "\n",
    "def execute_action(state: dict, action_label: str, log: Callable) -> tuple[dict, str]:\n",
    "    \"\"\"Executes the action on the room state and returns the updated state and an acknowledgement.\"\"\"\n",
    "    try:\n",
    "        # Call the function mapped from the label\n",
    "        state, acknowledgement = get_func(action_label)(state)\n",
    "\n",
    "    except Exception:\n",
    "        acknowledgement = \"No action suggested or action not recognized.\"\n",
    "\n",
    "    return state, acknowledgement"
   ]
  },
  {
   "cell_type": "code",
   "execution_count": null,
   "id": "88481cac-48f3-458e-92fc-d5c5be2a5098",
   "metadata": {},
   "outputs": [],
   "source": [
    "# Main ReAct loop\n",
    "def main_react_loop_chat_fc(session, loop_continues, log):\n",
    "    room_state = {}\n",
    "    reset_room_state(room_state)\n",
    "    trash_added = False\n",
    "\n",
    "    prev_action = None\n",
    "    cycle = 1\n",
    "    while loop_continues(cycle, room_state):\n",
    "        log(f\"Cycle #{cycle}\")\n",
    "        # Observe the environment (use Gemini to generate an action thought)\n",
    "        action_label = observe_and_reason(session, room_state, prev_action, log)\n",
    "\n",
    "        # Execute the action and get the observation\n",
    "        if action_label == \"done\":\n",
    "            break\n",
    "        room_state, acknowledgement = execute_action(room_state, action_label, log)\n",
    "        prev_action = f\"ACTION:   {action_label}\\nEXECUTED: {acknowledgement}\"\n",
    "        log(prev_action + \"\\n\")\n",
    "\n",
    "        # Simulating a change in environment\n",
    "        if cycle == 4 and not trash_added:\n",
    "            room_state[\"wastebin\"] = \"1 item\"\n",
    "            trash_added = True\n",
    "\n",
    "        cycle += 1\n",
    "        # End of while loop\n",
    "\n",
    "    # Determine the final result\n",
    "    result = (\n",
    "        \"The room is tidy!\" if is_room_tidy(room_state) else \"The room is not tidy!\"\n",
    "    )\n",
    "\n",
    "    return room_state, result"
   ]
  },
  {
   "cell_type": "markdown",
   "id": "423f6a46-115d-45ae-9095-f6466cae57ea",
   "metadata": {},
   "source": [
    "session = model.start_chat()\n",
    "\n",
    "room_state, result = main_react_loop_chat_fc(session, lambda c, r: c <= 10, logging)\n",
    "print(room_state, result)"
   ]
  },
  {
   "cell_type": "markdown",
   "id": "f278817b-ea65-4ea0-9187-a82b147606ed",
   "metadata": {},
   "source": [
    "# Langchain"
   ]
  },
  {
   "cell_type": "code",
   "execution_count": null,
   "id": "ed5fab2e-a57a-4002-bf85-e78797b97236",
   "metadata": {},
   "outputs": [],
   "source": [
    "import os\n",
    "if \"GOOGLE_API_KEY\" not in os.environ:\n",
    "    os.environ[\"GOOGLE_API_KEY\"] = \"YOUR KEY\""
   ]
  },
  {
   "cell_type": "code",
   "execution_count": 74,
   "id": "a5d62862-bb0c-49b8-b589-f8d4fb86cd41",
   "metadata": {},
   "outputs": [],
   "source": [
    "from langchain_google_genai import ChatGoogleGenerativeAI\n",
    "from langchain_google_genai import (\n",
    "    ChatGoogleGenerativeAI,\n",
    "    HarmBlockThreshold,\n",
    "    HarmCategory,\n",
    ")\n",
    "\n",
    "model = ChatGoogleGenerativeAI(\n",
    "    model=\"gemini-2.0-flash\",\n",
    "    temperature=0.3,\n",
    "    max_tokens=None,\n",
    "    timeout=None,\n",
    "    max_retries=2,\n",
    ")"
   ]
  },
  {
   "cell_type": "code",
   "execution_count": 110,
   "id": "74e9ede7-bdc0-40c3-93e0-948b85344746",
   "metadata": {},
   "outputs": [],
   "source": [
    "from langchain_core.tools import tool\n",
    "from typing import Literal\n",
    "import mysql.connector\n",
    "\n",
    "conn = mysql.connector.connect(\n",
    "    host=\"34.58.126.114\",\n",
    "    user=\"root\",\n",
    "    database=\"plan_wise\"\n",
    ")\n",
    "\n",
    "@tool\n",
    "def create_user(user_id: str, name: str):\n",
    "    \"\"\"Asks the user for its name to register the user to the database.\n",
    "\n",
    "    Args:\n",
    "        -user_id: the id of the calling user in strings\n",
    "        -name: the name of the calling user\n",
    "\n",
    "    Returns:\n",
    "        A message indicating whether the user has successfully been registered.\n",
    "    \"\"\"\n",
    "    try:\n",
    "        cursor = conn.cursor()\n",
    "        # Retrieve data\n",
    "        cursor.execute(\"INSERT INTO users (id, name) VALUES (%s, %s)\", (user_id, name))\n",
    "        conn.commit()\n",
    "            \n",
    "        cursor.close()\n",
    "        return row\n",
    "    except Exception as e:\n",
    "        return f\"ERROR MESSAGE: {e}\"\n",
    "\n",
    "@tool\n",
    "def get_name(user_id: str):\n",
    "    \"\"\"Returns the name stored in a database associated with a user_id.\n",
    "\n",
    "    Args:\n",
    "        -user_id: the id of the calling user in strings\n",
    "\n",
    "    Returns:\n",
    "        The name of the calling user or error if the calling user's id is not registered in the database\n",
    "    \"\"\"\n",
    "    try:\n",
    "        cursor = conn.cursor()\n",
    "        # Retrieve data\n",
    "        cursor.execute(f\"SELECT name FROM users WHERE id = '{user_id}'\")\n",
    "        row = cursor.fetchone()\n",
    "            \n",
    "        cursor.close()\n",
    "        return row\n",
    "    except Exception as e:\n",
    "        return f\"ERROR MESSAGE: {user_id} is not registered with the database\"\n",
    "\n",
    "@tool\n",
    "def get_assets(user_id: str):\n",
    "    \"\"\"Returns the financial assets owned by the calling user identified with a user_id from a database.\n",
    "\n",
    "    Args:\n",
    "        -user_id: the id of the calling user in strings\n",
    "\n",
    "    Returns:\n",
    "        A list of assets owned by the calling user or error if the calling user's id is not registered in the database\n",
    "        \n",
    "    \"\"\"\n",
    "    try:\n",
    "        results = []\n",
    "        cursor = conn.cursor()\n",
    "        # Retrieve data\n",
    "        cursor.execute(f\"SELECT id, amount, description, type FROM assets WHERE user_id = '{user_id}'\")\n",
    "        rows = cursor.fetchall()\n",
    "        \n",
    "        for row in rows:\n",
    "            obj = {}\n",
    "            obj[\"asset_id\"] = row[0]\n",
    "            obj[\"amount\"] = row[1]\n",
    "            obj[\"description\"] = row[2]\n",
    "            obj[\"type\"] = row[3]\n",
    "            results.append(obj)\n",
    "            \n",
    "        cursor.close()\n",
    "        return results\n",
    "    except Exception as e:\n",
    "        return e\n",
    "        return f\"ERROR MESSAGE: {user_id} is not registered with the database\"\n",
    "\n",
    "tools = [get_name, create_user, get_assets]"
   ]
  },
  {
   "cell_type": "code",
   "execution_count": 119,
   "id": "2e6b9f73-6d4c-453f-ac39-d3402d40ec33",
   "metadata": {},
   "outputs": [],
   "source": [
    "prompt = \"\"\"\n",
    "You are a helpful assistant and financial expert who helps students with financial planning and portfolio management.\n",
    "You are capable of providing financial advice because you know that your users will act at their own risk.\n",
    "You may not need to use tools for every query - the user may just want to chat!\"\n",
    "\"\"\""
   ]
  },
  {
   "cell_type": "code",
   "execution_count": 120,
   "id": "608f0bde-2b30-4a21-9aaf-9d0d852a324e",
   "metadata": {},
   "outputs": [],
   "source": [
    "from langgraph.prebuilt import create_react_agent\n",
    "from langgraph.checkpoint.memory import MemorySaver\n",
    "\n",
    "memory = MemorySaver()\n",
    "agent = create_react_agent(model, tools, prompt=prompt, checkpointer=memory)"
   ]
  },
  {
   "cell_type": "code",
   "execution_count": 121,
   "id": "84356b2c-74d9-46b4-b3ff-7d22c8f5fb9f",
   "metadata": {},
   "outputs": [],
   "source": [
    "from langchain_core.messages import AIMessage, HumanMessage"
   ]
  },
  {
   "cell_type": "code",
   "execution_count": 122,
   "id": "09524203-56f2-471a-8e45-41947ab41254",
   "metadata": {},
   "outputs": [
    {
     "data": {
      "text/plain": [
       "{'messages': [HumanMessage(content='What is my name?', additional_kwargs={}, response_metadata={}, id='4d083baa-fc15-4992-bede-1b3626af1e13'),\n",
       "  AIMessage(content='Could you please provide your user ID?', additional_kwargs={}, response_metadata={'prompt_feedback': {'block_reason': 0, 'safety_ratings': []}, 'finish_reason': 'STOP', 'safety_ratings': []}, id='run-3223e349-db47-47be-8271-9e1121dd0c72-0', usage_metadata={'input_tokens': 285, 'output_tokens': 9, 'total_tokens': 294, 'input_token_details': {'cache_read': 0}})]}"
      ]
     },
     "execution_count": 122,
     "metadata": {},
     "output_type": "execute_result"
    }
   ],
   "source": [
    "agent.invoke(\n",
    "    {\n",
    "        \"messages\": [\n",
    "            HumanMessage(content=\"What is my name?\"),\n",
    "        ],\n",
    "    },\n",
    "    config={\"configurable\": {\"thread_id\": \"1\"}},\n",
    ")"
   ]
  },
  {
   "cell_type": "code",
   "execution_count": 123,
   "id": "38060fda-0e4d-4bb1-9948-5f1a17df06c4",
   "metadata": {},
   "outputs": [
    {
     "data": {
      "text/plain": [
       "{'messages': [HumanMessage(content='What is my name?', additional_kwargs={}, response_metadata={}, id='4d083baa-fc15-4992-bede-1b3626af1e13'),\n",
       "  AIMessage(content='Could you please provide your user ID?', additional_kwargs={}, response_metadata={'prompt_feedback': {'block_reason': 0, 'safety_ratings': []}, 'finish_reason': 'STOP', 'safety_ratings': []}, id='run-3223e349-db47-47be-8271-9e1121dd0c72-0', usage_metadata={'input_tokens': 285, 'output_tokens': 9, 'total_tokens': 294, 'input_token_details': {'cache_read': 0}}),\n",
       "  HumanMessage(content='my id is user_id', additional_kwargs={}, response_metadata={}, id='7564ae79-f96c-4a11-8308-83d40193f1ed'),\n",
       "  AIMessage(content='', additional_kwargs={'function_call': {'name': 'get_name', 'arguments': '{\"user_id\": \"user_id\"}'}}, response_metadata={'prompt_feedback': {'block_reason': 0, 'safety_ratings': []}, 'finish_reason': 'STOP', 'safety_ratings': []}, id='run-6b316bc5-2dc9-4ae1-9003-f90f2d5ae562-0', tool_calls=[{'name': 'get_name', 'args': {'user_id': 'user_id'}, 'id': '23b38c98-00f0-4f2a-8395-93299ebc9c73', 'type': 'tool_call'}], usage_metadata={'input_tokens': 299, 'output_tokens': 9, 'total_tokens': 308, 'input_token_details': {'cache_read': 0}}),\n",
       "  ToolMessage(content='[\"Ian\"]', name='get_name', id='4cbb27ea-66df-49b7-b134-b62bb34a66b0', tool_call_id='23b38c98-00f0-4f2a-8395-93299ebc9c73'),\n",
       "  AIMessage(content='Your name is Ian.', additional_kwargs={}, response_metadata={'prompt_feedback': {'block_reason': 0, 'safety_ratings': []}, 'finish_reason': 'STOP', 'safety_ratings': []}, id='run-8d7292d2-6da9-4428-8b5c-f82039035b6c-0', usage_metadata={'input_tokens': 313, 'output_tokens': 6, 'total_tokens': 319, 'input_token_details': {'cache_read': 0}})]}"
      ]
     },
     "execution_count": 123,
     "metadata": {},
     "output_type": "execute_result"
    }
   ],
   "source": [
    "agent.invoke(\n",
    "    {\n",
    "        \"messages\": [\n",
    "            HumanMessage(content=\"my id is user_id\"),\n",
    "        ],\n",
    "    },\n",
    "    config={\"configurable\": {\"thread_id\": \"1\"}},\n",
    ")"
   ]
  },
  {
   "cell_type": "code",
   "execution_count": 124,
   "id": "108b7e1d-4c64-408e-9d83-b525937cafdb",
   "metadata": {},
   "outputs": [
    {
     "data": {
      "text/plain": [
       "{'messages': [HumanMessage(content='What is my name?', additional_kwargs={}, response_metadata={}, id='4d083baa-fc15-4992-bede-1b3626af1e13'),\n",
       "  AIMessage(content='Could you please provide your user ID?', additional_kwargs={}, response_metadata={'prompt_feedback': {'block_reason': 0, 'safety_ratings': []}, 'finish_reason': 'STOP', 'safety_ratings': []}, id='run-3223e349-db47-47be-8271-9e1121dd0c72-0', usage_metadata={'input_tokens': 285, 'output_tokens': 9, 'total_tokens': 294, 'input_token_details': {'cache_read': 0}}),\n",
       "  HumanMessage(content='my id is user_id', additional_kwargs={}, response_metadata={}, id='7564ae79-f96c-4a11-8308-83d40193f1ed'),\n",
       "  AIMessage(content='', additional_kwargs={'function_call': {'name': 'get_name', 'arguments': '{\"user_id\": \"user_id\"}'}}, response_metadata={'prompt_feedback': {'block_reason': 0, 'safety_ratings': []}, 'finish_reason': 'STOP', 'safety_ratings': []}, id='run-6b316bc5-2dc9-4ae1-9003-f90f2d5ae562-0', tool_calls=[{'name': 'get_name', 'args': {'user_id': 'user_id'}, 'id': '23b38c98-00f0-4f2a-8395-93299ebc9c73', 'type': 'tool_call'}], usage_metadata={'input_tokens': 299, 'output_tokens': 9, 'total_tokens': 308, 'input_token_details': {'cache_read': 0}}),\n",
       "  ToolMessage(content='[\"Ian\"]', name='get_name', id='4cbb27ea-66df-49b7-b134-b62bb34a66b0', tool_call_id='23b38c98-00f0-4f2a-8395-93299ebc9c73'),\n",
       "  AIMessage(content='Your name is Ian.', additional_kwargs={}, response_metadata={'prompt_feedback': {'block_reason': 0, 'safety_ratings': []}, 'finish_reason': 'STOP', 'safety_ratings': []}, id='run-8d7292d2-6da9-4428-8b5c-f82039035b6c-0', usage_metadata={'input_tokens': 313, 'output_tokens': 6, 'total_tokens': 319, 'input_token_details': {'cache_read': 0}}),\n",
       "  HumanMessage(content='Can you look at my current assets and provide me some financial advice on what I should invest in for a consistent anual return in the next 5 years?', additional_kwargs={}, response_metadata={}, id='dca27e85-fbd5-4793-9e89-30fc0fef2e88'),\n",
       "  AIMessage(content='', additional_kwargs={'function_call': {'name': 'get_assets', 'arguments': '{\"user_id\": \"user_id\"}'}}, response_metadata={'prompt_feedback': {'block_reason': 0, 'safety_ratings': []}, 'finish_reason': 'STOP', 'safety_ratings': []}, id='run-8aaf32bd-7461-4554-b100-179b364a6be1-0', tool_calls=[{'name': 'get_assets', 'args': {'user_id': 'user_id'}, 'id': 'ae88305e-20c2-4dbb-bc26-0edc87d58cce', 'type': 'tool_call'}], usage_metadata={'input_tokens': 349, 'output_tokens': 9, 'total_tokens': 358, 'input_token_details': {'cache_read': 0}}),\n",
       "  ToolMessage(content='[{\"asset_id\": 1, \"amount\": 500.05, \"description\": \"Gold\", \"type\": \"Minerals\"}]', name='get_assets', id='b71da99c-b175-45b9-8fbb-306d8c4997a4', tool_call_id='ae88305e-20c2-4dbb-bc26-0edc87d58cce'),\n",
       "  AIMessage(content=\"Okay, it looks like you currently have $500.05 invested in Gold. To provide you with the best financial advice, I need a bit more information about your financial situation and goals. However, I can still provide some general advice.\\n\\nGiven your current investment in gold, which can be volatile, and your goal of consistent annual returns over the next 5 years, here's a general approach:\\n\\n**Diversification:**\\n   - Don't put all your eggs in one basket. Diversifying your investments across different asset classes can help reduce risk and improve the consistency of returns.\\n   - Consider diversifying into other asset classes such as stocks, bonds, and real estate.\\n\\n**Investment Options for Consistent Returns:**\\n   - **Bonds:** Bonds are generally less volatile than stocks and can provide a steady stream of income. Consider investing in government bonds or high-quality corporate bonds.\\n   - **Dividend Stocks:** These are stocks of companies that regularly pay out a portion of their profits as dividends. They can provide a consistent income stream and potential capital appreciation.\\n   - **Index Funds/ETFs:** These are low-cost investment vehicles that track a specific market index, such as the S&P 500. They offer instant diversification and can provide consistent returns over the long term.\\n   - **Real Estate:** Investing in rental properties can provide a steady stream of income.\\n\\n**Things to Consider:**\\n\\n*   **Risk Tolerance:** How comfortable are you with the possibility of losing money? If you're risk-averse, you may want to stick to more conservative investments like bonds and dividend stocks.\\n*   **Investment Timeline:** You mentioned a 5-year timeframe. This is generally considered a medium-term investment horizon.\\n*   **Financial Goals:** What are you hoping to achieve with your investments? Are you saving for retirement, a down payment on a house, or something else?\\n*   **Inflation:** Consider the impact of inflation on your returns. You'll want to choose investments that can outpace inflation to maintain your purchasing power.\\n\\n**Recommendation:**\\n\\nGiven your goal of consistent annual returns, I would recommend diversifying your investments into a mix of bonds, dividend stocks, and index funds/ETFs. A balanced portfolio might consist of:\\n\\n*   40% Bonds\\n*   30% Dividend Stocks\\n*   30% Index Funds/ETFs\\n\\n**Disclaimer:** *This is just general advice and not a substitute for personalized financial advice from a qualified professional. All investment decisions should be made with the understanding that you are assuming the risk, and I am not liable for any potential losses.*\", additional_kwargs={}, response_metadata={'prompt_feedback': {'block_reason': 0, 'safety_ratings': []}, 'finish_reason': 'STOP', 'safety_ratings': []}, id='run-0c248165-db27-47e2-92a1-00668331d6e1-0', usage_metadata={'input_tokens': 370, 'output_tokens': 551, 'total_tokens': 921, 'input_token_details': {'cache_read': 0}})]}"
      ]
     },
     "execution_count": 124,
     "metadata": {},
     "output_type": "execute_result"
    }
   ],
   "source": [
    "agent.invoke(\n",
    "    {\n",
    "        \"messages\": [\n",
    "            HumanMessage(content=\"Can you look at my current assets and provide me some financial advice on what I should invest in for a consistent anual return in the next 5 years?\"),\n",
    "        ],\n",
    "    },\n",
    "    config={\"configurable\": {\"thread_id\": \"1\"}},\n",
    ")"
   ]
  },
  {
   "cell_type": "markdown",
   "id": "3c24d96b-83e4-4d54-b137-2a1e00bcb316",
   "metadata": {},
   "source": [
    "# Database interaction"
   ]
  },
  {
   "cell_type": "code",
   "execution_count": 104,
   "id": "8e6d7a0f-e3ab-4ae0-9076-e27b2566aae8",
   "metadata": {},
   "outputs": [],
   "source": [
    "import mysql.connector\n",
    "\n",
    "conn = mysql.connector.connect(\n",
    "    host=\"34.58.126.114\",\n",
    "    user=\"root\",\n",
    "    database=\"plan_wise\"\n",
    ")\n",
    "\n",
    "cursor = conn.cursor()\n",
    "cursor.execute(\"INSERT INTO users (id, name) VALUES (%s, %s)\", (\"hello_world\", \"hello\"))\n",
    "conn.commit()\n",
    "\n",
    "cursor.close()\n",
    "conn.close()"
   ]
  },
  {
   "cell_type": "code",
   "execution_count": 25,
   "id": "61d48ed1-ae8a-49d3-891f-0f3f9d34953d",
   "metadata": {},
   "outputs": [
    {
     "name": "stdout",
     "output_type": "stream",
     "text": [
      "('hello',)\n"
     ]
    }
   ],
   "source": [
    "import mysql.connector\n",
    "\n",
    "conn = mysql.connector.connect(\n",
    "    host=\"34.58.126.114\",\n",
    "    user=\"root\",\n",
    "    database=\"plan_wise\"\n",
    ")\n",
    "\n",
    "cursor = conn.cursor()\n",
    "# Retrieve data\n",
    "cursor.execute(f\"SELECT name FROM users WHERE id = 'hello_world'\")\n",
    "row = cursor.fetchone()\n",
    "print(row)\n",
    "\n",
    "cursor.close()\n",
    "conn.close()"
   ]
  },
  {
   "cell_type": "raw",
   "id": "84b7eb1f-63bc-4d5a-9265-6cf6fa994ad4",
   "metadata": {},
   "source": []
  }
 ],
 "metadata": {
  "kernelspec": {
   "display_name": "Python 3 (ipykernel)",
   "language": "python",
   "name": "python3"
  },
  "language_info": {
   "codemirror_mode": {
    "name": "ipython",
    "version": 3
   },
   "file_extension": ".py",
   "mimetype": "text/x-python",
   "name": "python",
   "nbconvert_exporter": "python",
   "pygments_lexer": "ipython3",
   "version": "3.12.9"
  }
 },
 "nbformat": 4,
 "nbformat_minor": 5
}
